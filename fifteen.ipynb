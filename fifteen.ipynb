{
 "cells": [
  {
   "cell_type": "markdown",
   "metadata": {
    "pycharm": {
     "name": "#%% md\n"
    }
   },
   "source": [
    "Обозначим через m & n поразрядную конъюнкцию неотрицательных целых чисел m и n.\n",
    "\n",
    "Так, например, 14 & 5 = 11102 & 01012 = 01002 = 4. Для какого наименьшего неотрицательного целого числа А формула\n",
    "\n",
    "x & 29 ≠ 0 → (x & 17 = 0 → x & А ≠ 0)\n",
    "\n",
    "тождественно истинна (т. е. принимает значение 1 при любом неотрицательном целом значении переменной x)?"
   ]
  },
  {
   "cell_type": "code",
   "execution_count": null,
   "outputs": [],
   "source": [
    "for A in range(0,20):\n",
    "    a = 0\n",
    "    for x in range(0,100):\n",
    "        if ((x & 29 != 0) <= ((x & 17 == 0) <= (x & A != 0))) == 0:\n",
    "            a = 1\n",
    "            break\n",
    "    if (a == 0):\n",
    "        print(A)"
   ],
   "metadata": {
    "collapsed": false,
    "pycharm": {
     "name": "#%%\n",
     "is_executing": true
    }
   }
  },
  {
   "cell_type": "markdown",
   "source": [
    "ОТВЕТ: 12"
   ],
   "metadata": {
    "collapsed": false,
    "pycharm": {
     "name": "#%% md\n"
    }
   }
  },
  {
   "cell_type": "markdown",
   "source": [
    "Обозначим через m & n поразрядную конъюнкцию неотрицательных целых чисел m и n.\n",
    "\n",
    "Так, например, 14 & 5 = 11102 & 01012 = 01002 = 4. Для какого наименьшего неотрицательного целого числа А формула\n",
    "\n",
    "(x & 105 = 0) → ((x & 58 ≠ 0) → (x & А ≠ 0))\n",
    "\n",
    "тождественно истинна (т. е. принимает значение 1 при любом неотрицательном целом значении переменной x)?"
   ],
   "metadata": {
    "collapsed": false,
    "pycharm": {
     "name": "#%% md\n"
    }
   }
  },
  {
   "cell_type": "code",
   "execution_count": 5,
   "metadata": {
    "pycharm": {
     "name": "#%%\n"
    }
   },
   "outputs": [
    {
     "name": "stdout",
     "output_type": "stream",
     "text": [
      "18\n",
      "19\n"
     ]
    }
   ],
   "source": [
    "for A in range(0,20):\n",
    "    a = 0\n",
    "    for x in range(0,100):\n",
    "        if ((x & 105 == 0) <= ((x & 58 != 0) <= (x & A != 0))) == 0:\n",
    "            a = 1\n",
    "            break\n",
    "    if a == 0:\n",
    "        print(A)"
   ]
  },
  {
   "cell_type": "markdown",
   "metadata": {
    "pycharm": {
     "name": "#%% md\n"
    }
   },
   "source": [
    "ОТВЕТ:18"
   ]
  },
  {
   "cell_type": "markdown",
   "metadata": {
    "pycharm": {
     "name": "#%% md\n"
    }
   },
   "source": [
    "На числовой прямой даны два отрезка: P = [5, 30] и Q = [14, 23]. Укажите наибольшую возможную длину промежутка A, для которого формула\n",
    "\n",
    "((x ∈ P) ≡ (x ∈ Q)) → ¬(x ∈ A)\n",
    "\n",
    "тождественно истинна, то есть принимает значение 1 при любом значении переменной х."
   ]
  },
  {
   "cell_type": "code",
   "execution_count": 11,
   "metadata": {
    "pycharm": {
     "name": "#%%\n"
    }
   },
   "outputs": [
    {
     "name": "stdout",
     "output_type": "stream",
     "text": [
      "9\n"
     ]
    }
   ],
   "source": [
    "P = [i for i in range(5, 31)]\n",
    "Q = [i for i in range(14, 24)]\n",
    "ans = []\n",
    "for Amin in range(0,100):\n",
    "    for Amax in range(Amin + 1, 101):\n",
    "        flag = 0\n",
    "        A = [i for i in range(Amin, Amax)]\n",
    "        for x in range(0,100):\n",
    "            if (((x in P) == (x in Q)) <= (not(x in A))) == 0:\n",
    "                flag = 1\n",
    "                break\n",
    "        if (flag == 0):\n",
    "            ans.append(len(A))\n",
    "print(max(ans))"
   ]
  },
  {
   "cell_type": "markdown",
   "metadata": {
    "pycharm": {
     "name": "#%% md\n"
    }
   },
   "source": [
    "ОТВЕТ: 9"
   ]
  },
  {
   "cell_type": "markdown",
   "metadata": {
    "pycharm": {
     "name": "#%% md\n"
    }
   },
   "source": [
    "На числовой прямой даны два отрезка: P = [19; 84] и Q = [4; 51]. Укажите наименьшую возможную длину такого отрезка A, для которого формула\n",
    "\n",
    "(x ∈ P) → (¬(x ∈ Q) → ¬((x ∈ P) ∧ ¬(x ∈ A)))\n",
    "\n",
    "тождественно истинна (т. е. принимает значение 1 при любом значении переменной х)."
   ]
  },
  {
   "cell_type": "code",
   "execution_count": 17,
   "metadata": {
    "pycharm": {
     "name": "#%%\n"
    }
   },
   "outputs": [
    {
     "name": "stdout",
     "output_type": "stream",
     "text": [
      "33\n"
     ]
    }
   ],
   "source": [
    "P = [i for i in range(19,85)]\n",
    "Q = [i for i in range(4,52)]\n",
    "ans = []\n",
    "for Amin in range(0,100):\n",
    "    for Amax in range(Amin + 1, 101):\n",
    "        f = 0\n",
    "        A = [i for i in range(Amin, Amax)]\n",
    "        for x in range(0,100):\n",
    "            if ((x in P) <= ((not(x in Q)) <= (not((x in P) and (not(x in A)))))) == 0:\n",
    "                f = 1\n",
    "                break\n",
    "        if f == 0:\n",
    "            ans.append(len(A))\n",
    "print(min(ans))"
   ]
  },
  {
   "cell_type": "markdown",
   "metadata": {
    "pycharm": {
     "name": "#%% md\n"
    }
   },
   "source": [
    "ОТВЕТ: 33"
   ]
  },
  {
   "cell_type": "markdown",
   "metadata": {
    "pycharm": {
     "name": "#%% md\n"
    }
   },
   "source": [
    "Элементами множеств А, P, Q являются натуральные числа, причём P = {2, 4, 6, 8, 10, 12, 14, 16, 18, 20}, Q = {3, 6, 9, 12, 15, 18, 21, 24, 27, 30}. Известно, что выражение\n",
    "\n",
    "( (x ∈ A) → (x ∈ P) ) ∧ ( (x ∈ Q) → ¬(x ∈ A) )\n",
    "\n",
    "истинно (то есть принимает значение 1) при любом значении переменной х. Определите наибольшее возможное количество элементов в множестве A."
   ]
  },
  {
   "cell_type": "code",
   "execution_count": 24,
   "metadata": {
    "pycharm": {
     "name": "#%%\n"
    }
   },
   "outputs": [
    {
     "name": "stdout",
     "output_type": "stream",
     "text": [
      "[99]\n"
     ]
    }
   ],
   "source": [
    "P = {2, 4, 6, 8, 10, 12, 14, 16, 18, 20}\n",
    "Q = {3, 6, 9, 12, 15, 18, 21, 24, 27, 30}\n",
    "ans = []\n",
    "for Amin in range(0,100):\n",
    "    for Amax in range(Amin + 1, 101):\n",
    "        f = 0\n",
    "        A = [i for i in range(Amin, Amax)]\n",
    "        for x in range(0,100):\n",
    "            if (((x in A) <= (x in P)) and ((x in Q) <= (not(x in A)))) == 0:\n",
    "                f = 1\n",
    "                break\n",
    "        if f == 0:\n",
    "            ans.append(len(A))\n",
    "print(A)"
   ]
  },
  {
   "cell_type": "markdown",
   "metadata": {
    "pycharm": {
     "name": "#%% md\n"
    }
   },
   "source": [
    "Для какого наибольшего целого числа А формула\n",
    "\n",
    "((x ≤ 9) →(x ⋅ x ≤ A)) ⋀ ((y ⋅ y ≤ A) → (y ≤ 9))\n",
    "\n",
    "тождественно истинна, то есть принимает значение 1 при любых целых неотрицательных x и y?"
   ]
  },
  {
   "cell_type": "code",
   "execution_count": 25,
   "metadata": {
    "pycharm": {
     "name": "#%%\n"
    }
   },
   "outputs": [
    {
     "name": "stdout",
     "output_type": "stream",
     "text": [
      "81\n",
      "82\n",
      "83\n",
      "84\n",
      "85\n",
      "86\n",
      "87\n",
      "88\n",
      "89\n",
      "90\n",
      "91\n",
      "92\n",
      "93\n",
      "94\n",
      "95\n",
      "96\n",
      "97\n",
      "98\n",
      "99\n"
     ]
    }
   ],
   "source": [
    "for A in range(0,100):\n",
    "    f = 0\n",
    "    for x in range(0,100):\n",
    "        for y in range(0,100):\n",
    "            if (((x <= 9) <= (x*x <= A)) and ((y*y <= A) <= (y <= 9))) == 0:\n",
    "                f = 1\n",
    "                break\n",
    "    if f == 0:\n",
    "        print(A)"
   ]
  }
 ],
 "metadata": {
  "interpreter": {
   "hash": "916dbcbb3f70747c44a77c7bcd40155683ae19c65e1c03b4aa3499c5328201f1"
  },
  "kernelspec": {
   "display_name": "Python 3.8.10 64-bit",
   "language": "python",
   "name": "python3"
  },
  "language_info": {
   "codemirror_mode": {
    "name": "ipython",
    "version": 3
   },
   "file_extension": ".py",
   "mimetype": "text/x-python",
   "name": "python",
   "nbconvert_exporter": "python",
   "pygments_lexer": "ipython3",
   "version": "3.8.10"
  },
  "orig_nbformat": 4
 },
 "nbformat": 4,
 "nbformat_minor": 2
}